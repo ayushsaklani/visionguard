{
 "cells": [
  {
   "cell_type": "code",
   "execution_count": 1,
   "id": "ab9eb5fa-404d-4e5c-8560-83f54e318cdf",
   "metadata": {
    "tags": []
   },
   "outputs": [],
   "source": [
    "%reload_ext autoreload\n",
    "%autoreload 2"
   ]
  },
  {
   "cell_type": "code",
   "execution_count": 2,
   "id": "a2ed063c-d352-44f6-806d-9f5d5b12eb3f",
   "metadata": {
    "tags": []
   },
   "outputs": [],
   "source": [
    "import scipy.io\n",
    "import numpy as np\n",
    "from utils import PedestrianAttributeDataset,show_grid,get_device,get_dataloader\n",
    "from model import VisionGuard\n",
    "import os \n",
    "import torch\n",
    "from engine import train\n",
    "from torch import nn\n",
    "import torch.nn.functional as F\n",
    "import torch.optim as optim"
   ]
  },
  {
   "cell_type": "code",
   "execution_count": 3,
   "id": "424ee1d6-2bea-4472-915f-d39dcddd6803",
   "metadata": {
    "tags": []
   },
   "outputs": [],
   "source": [
    "train_dataloader = get_dataloader(annotation_path=\"../../projectcv/pa-100k/annotation/annotation.mat\",image_folder=\"../../projectcv/pa-100k/release_data/\",split = \"Train\",batch_size =32)\n",
    "val_dataloader = get_dataloader(annotation_path=\"../../projectcv/pa-100k/annotation/annotation.mat\",image_folder=\"../../projectcv/pa-100k/release_data/\",split = \"Val\",batch_size =1)"
   ]
  },
  {
   "cell_type": "code",
   "execution_count": 4,
   "id": "0b09a945-55de-4831-80a4-4d4ece916a82",
   "metadata": {
    "tags": []
   },
   "outputs": [
    {
     "name": "stderr",
     "output_type": "stream",
     "text": [
      "/opt/conda/envs/pytorch/lib/python3.10/site-packages/torchvision/models/_utils.py:135: UserWarning: Using 'weights' as positional parameter(s) is deprecated since 0.13 and may be removed in the future. Please use keyword parameter(s) instead.\n",
      "  warnings.warn(\n"
     ]
    }
   ],
   "source": [
    "model = VisionGuard()\n",
    "criterion = nn.BCEWithLogitsLoss()\n",
    "optimizer = optim.Adam(model.parameters(), lr=0.001)"
   ]
  },
  {
   "cell_type": "code",
   "execution_count": null,
   "id": "e35bd825-f4e4-41a4-a4c3-8ce51ae46b11",
   "metadata": {
    "tags": []
   },
   "outputs": [
    {
     "name": "stderr",
     "output_type": "stream",
     "text": [
      " Training Epoch 1/100:  10%|▉         | 238/2500 [11:31<1:44:43,  2.78s/batch, loss=0.355]"
     ]
    }
   ],
   "source": [
    "train(model,{\"train\":train_dataloader},criterion,optimizer,device=get_device(),out=\"../output\")"
   ]
  },
  {
   "cell_type": "code",
   "execution_count": null,
   "id": "90e51479-bbb9-4a38-b271-21accd517fd0",
   "metadata": {},
   "outputs": [],
   "source": []
  }
 ],
 "metadata": {
  "environment": {
   "kernel": "conda-env-pytorch-pytorch",
   "name": "workbench-notebooks.m113",
   "type": "gcloud",
   "uri": "gcr.io/deeplearning-platform-release/workbench-notebooks:m113"
  },
  "kernelspec": {
   "display_name": "PyTorch 1-13 (Local)",
   "language": "python",
   "name": "conda-env-pytorch-pytorch"
  },
  "language_info": {
   "codemirror_mode": {
    "name": "ipython",
    "version": 3
   },
   "file_extension": ".py",
   "mimetype": "text/x-python",
   "name": "python",
   "nbconvert_exporter": "python",
   "pygments_lexer": "ipython3",
   "version": "3.10.13"
  }
 },
 "nbformat": 4,
 "nbformat_minor": 5
}
